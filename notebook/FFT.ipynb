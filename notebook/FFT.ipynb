{
 "cells": [
  {
   "cell_type": "code",
   "execution_count": null,
   "metadata": {},
   "outputs": [],
   "source": [
    "%matplotlib notebook\n",
    "import matplotlib.pyplot as plt\n",
    "import numpy as np"
   ]
  },
  {
   "cell_type": "markdown",
   "metadata": {},
   "source": [
    "## DFT in numpy\n",
    "Let us consider a periodic function $u(x)$ in $[0,2\\pi]$ and the value of $u(x)$ are known at $N$ collection points\n",
    "\\begin{equation}\n",
    "    x_i = \\frac{2\\pi i}{N} \\quad i=0,\\dots,N-1\n",
    "\\end{equation}\n",
    "In numpy, the Discrete Fourier Transform is implemented as \n",
    "\\begin{equation}\n",
    "       \\begin{cases}\n",
    "           \\text{DFT}: \\\\\n",
    "           \\text{iDFT}:\n",
    "       \\end{cases}\n",
    "\\end{equation}\n",
    "Using the interpolator:\n",
    "\\begin{equation}\n",
    "    u_N(x) = \\sum_{k=-N/2}^{N/2-1} \\frac{\\hat{u}_k}{N} e^{ikx}\n",
    "\\end{equation}\n",
    "$\\hat{u}_k$ is computed by DFT but we have two points to emphasize:\n",
    "* The component with $k=-N/2$ must be removed as it has no intercounts and will make $u_N(x)$ non-real\n",
    "* The order is not from $-N/2$ to $N/2-1$\n",
    "\n",
    "|numpy  | 0   | 1 | $\\dots$|$N/2-1$|$N/2$ |$N/2+1$ |$\\dots$|$N/2+k$ |$\\dots$| $N/2+N/2-1$ |\n",
    "|:-----:|:---:|:-:|:-------|:-----:|:----:|:---:   |:-:    |:------:| :-----:|:---------:|\n",
    "|k      | 0   |1  |$\\dots$ |$N/2-1$|$-N/2$|$-N/2+1$|$\\dots$|  $N/2$ |$\\dots$|$-1$       |\n",
    "\n",
    "For $k<0$ and $k \\ne -N/2$\n",
    "\\begin{equation}\n",
    "   \\hat{u}_k e^{\\frac{2\\pi m i}{N}k} = \\hat{u}[N+k]e^{\\frac{2\\pi m i}{N}(N+k)} = \\hat{u}[N+k]e^{\\frac{2\\pi m i}{N}k}e^{\\frac{2\\pi m i}{N}N} = \\hat{u}[N+k]e^{\\frac{2\\pi m i}{N}k}\n",
    "\\end{equation}\n",
    "We also use $u(x) = e^{\\sin x}$ as our example"
   ]
  },
  {
   "cell_type": "markdown",
   "metadata": {},
   "source": [
    "If a function has a periodicity $L$ at grid point\n",
    "\\begin{equation}\n",
    "    x^{'}_i = \\frac{Li}{N}\n",
    "\\end{equation}"
   ]
  },
  {
   "cell_type": "code",
   "execution_count": null,
   "metadata": {},
   "outputs": [],
   "source": [
    "N = 8\n",
    "x = np.linspace(0,2.*np.pi,N,endpoint=False)\n",
    "u = np.exp(np.sin(2.*x)) \n",
    "\n",
    "# Perform the dft\n",
    "wavenumber = np.fft.fftfreq(N)*N\n",
    "uhat = np.fft.fft(u)\n",
    "\n",
    "wavenumberplot = np.fft.fftshift(wavenumber)\n",
    "uhatplot = np.fft.fftshift(uhat)\n",
    "\n",
    "plt.figure(figsize=(6,9))\n",
    "\n",
    "plt.subplot(211)\n",
    "markerline, stemlines, baseline = plt.stem(wavenumberplot,uhatplot.real)\n",
    "plt.setp(markerline,color='black',markersize=3.)\n",
    "plt.setp(stemlines,color='black',linestyle='--',linewidth=0.8)\n",
    "plt.tick_params(direction='in')\n",
    "#plt.xlim(-4,4)\n",
    "#plt.ylim(-0.2,1.3)\n",
    "plt.annotate(\"remove\",xy=[wavenumberplot[0],0.],xytext=[-3,4],\n",
    "             arrowprops=dict(facecolor='black', \n",
    "                             shrink=0.05,\n",
    "                             width=0.2,\n",
    "                             headwidth=3.))\n",
    "plt.xlabel('$k$')\n",
    "plt.ylabel('$Re(\\hat{u})$')\n",
    "\n",
    "plt.subplot(212)\n",
    "markerline, stemlines, baseline = plt.stem(wavenumberplot,uhatplot.imag)\n",
    "plt.setp(stemlines,color='black',linestyle='--',linewidth=0.8)\n",
    "plt.setp(markerline,color='black',markersize=3.)\n",
    "plt.xlabel('$k$')\n",
    "plt.ylabel('$Im(\\hat{u})$')\n",
    "#plt.xlim(-4,4)\n",
    "#plt.ylim(-0.6,0.6)\n",
    "plt.tick_params(direction='in')"
   ]
  },
  {
   "cell_type": "code",
   "execution_count": null,
   "metadata": {},
   "outputs": [],
   "source": [
    "# Compute the derivative\n",
    "N = 512\n",
    "Lx = 2.*np.pi\n",
    "x = np.linspace(0,Lx,N,endpoint=False)\n",
    "u = np.exp(np.sin(x))\n",
    "\n",
    "k = np.fft.fftfreq(N)*N\n",
    "uHat = np.fft.fft(u)\n",
    "uxHat = 1.j*k*uHat\n",
    "# Remove k = -N/2\n",
    "uxHat[N//2] = 0.0+0.0j\n",
    "\n",
    "ux = np.fft.ifft(uxHat)"
   ]
  },
  {
   "cell_type": "code",
   "execution_count": null,
   "metadata": {},
   "outputs": [],
   "source": [
    "plt.figure()\n",
    "plt.figure\n",
    "plt.plot(x,ux)"
   ]
  },
  {
   "cell_type": "code",
   "execution_count": null,
   "metadata": {},
   "outputs": [],
   "source": [
    "# Compute the derivative\n",
    "N = 8\n",
    "alpha = 1.\n",
    "Lx = 2.*np.pi/alpha\n",
    "\n",
    "x = np.linspace(0,Lx,N,endpoint=False)\n",
    "u = np.exp(np.sin(x))\n",
    "\n",
    "k = np.fft.fftfreq(N)*N*alpha\n",
    "uHat = np.fft.fft(u)/N\n",
    "\n",
    "plt.figure(figsize=(6,9))\n",
    "\n",
    "plt.subplot(211)\n",
    "markerline, stemlines, baseline = plt.stem(np.fft.fftshift(k),np.fft.fftshift(uHat).real)\n",
    "plt.setp(markerline,color='black',markersize=3.)\n",
    "plt.setp(stemlines,color='black',linestyle='--',linewidth=0.8)\n",
    "plt.tick_params(direction='in')\n",
    "#plt.xlim(-4,4)\n",
    "#plt.ylim(-0.2,1.3)\n",
    "\n",
    "plt.xlabel('$k$')\n",
    "plt.ylabel('$Re(\\hat{u})$')\n",
    "\n",
    "plt.subplot(212)\n",
    "markerline, stemlines, baseline = plt.stem(np.fft.fftshift(k),np.fft.fftshift(uHat).imag)\n",
    "plt.setp(stemlines,color='black',linestyle='--',linewidth=0.8)\n",
    "plt.setp(markerline,color='black',markersize=3.)\n",
    "plt.xlabel('$k$')\n",
    "plt.ylabel('$Im(\\hat{u})$')\n",
    "#plt.xlim(-4,4)\n",
    "#plt.ylim(-0.6,0.6)\n",
    "plt.tick_params(direction='in')"
   ]
  }
 ],
 "metadata": {
  "kernelspec": {
   "display_name": "Python 3",
   "language": "python",
   "name": "python3"
  },
  "language_info": {
   "codemirror_mode": {
    "name": "ipython",
    "version": 3
   },
   "file_extension": ".py",
   "mimetype": "text/x-python",
   "name": "python",
   "nbconvert_exporter": "python",
   "pygments_lexer": "ipython3",
   "version": "3.7.0"
  }
 },
 "nbformat": 4,
 "nbformat_minor": 2
}
