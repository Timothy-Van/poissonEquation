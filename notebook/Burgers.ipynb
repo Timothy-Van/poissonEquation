{
 "cells": [
  {
   "cell_type": "code",
   "execution_count": null,
   "metadata": {},
   "outputs": [],
   "source": [
    "%matplotlib notebook\n",
    "import matplotlib.pyplot as plt\n",
    "import numpy as np"
   ]
  },
  {
   "cell_type": "code",
   "execution_count": null,
   "metadata": {},
   "outputs": [],
   "source": [
    "# Grid\n",
    "N = 4096\n",
    "L = 2*np.pi\n",
    "x = np.linspace(0,2.*np.pi,N,endpoint=False)\n",
    "alpha = 2.*np.pi/L\n",
    "\n",
    "kx = np.fft.fftfreq(N)* N * alpha\n",
    "\n",
    "dt = 1.e-7\n",
    "nu = 1.0"
   ]
  },
  {
   "cell_type": "code",
   "execution_count": null,
   "metadata": {},
   "outputs": [],
   "source": [
    "def conv(uhat,alias='No'):\n",
    "    N = uhat.size\n",
    "    what = np.zeros_like(uhat)\n",
    "    # no dealiasing\n",
    "    if alias == 'No':\n",
    "        kx = np.fft.fftfreq(N)*N\n",
    "        w = np.fft.ifft(uhat)*np.fft.ifft(1.j*kx*uhat)\n",
    "        what = np.fft.fft(w)\n",
    "    \n",
    "    if alias == '3/2':\n",
    "        M = int(3*N/2)\n",
    "        kx = np.fft.fftfreq(M)*M\n",
    "        uhatn = np.zeros(M,dtype=np.complex)\n",
    "        uhatn[:N//2] = uhat[:N//2]\n",
    "        uhatn[-1:-N//2:-1] = uhat[-1:-N//2:-1]\n",
    "        w = np.fft.ifft(uhatn)*np.fft.ifft(1.j*kx*uhatn)\n",
    "        whatn = np.fft.fft(w)\n",
    "        what[:N//2] = 1.5*whatn[:N//2]\n",
    "        what[-1:-N//2:-1] = 1.5*whatn[-1:-N//2:-1]\n",
    "        \n",
    "    if alias == '2/3':\n",
    "        kx = np.fft.fftfreq(N)*N\n",
    "        # filter the uhat\n",
    "        Filter = np.ones_like(kx)\n",
    "        Filter[np.abs(kx)>=2.*np.max(kx)/3.] = 0.0\n",
    "        w = np.fft.ifft(uhat*Filter)*np.fft.ifft(1.j*kx*uhat*Filter)\n",
    "        what = np.fft.fft(w)\n",
    "    return what"
   ]
  },
  {
   "cell_type": "code",
   "execution_count": null,
   "metadata": {},
   "outputs": [],
   "source": [
    "nt = int(0.001/dt)"
   ]
  },
  {
   "cell_type": "code",
   "execution_count": null,
   "metadata": {},
   "outputs": [],
   "source": [
    "A = 25; B = 16;\n",
    "u0 = 3*A**2/np.cosh(0.5*(A*(x-np.pi+2.)))**2 + 3*B**2/np.cosh(0.5*(B*(x-np.pi+1)))**2\n",
    "uhat = np.fft.fft(u0)\n",
    "\n",
    "A1 = 1./(1.+nu*dt*kx**2)\n",
    "A2 = A1*dt\n",
    "\n",
    "for nt in range(nt):\n",
    "    time = (nt+1)*dt\n",
    "    \n",
    "    what = conv(uhat,alias='3/2')\n",
    "    uhat = A1*uhat - A2*what\n",
    "    \n",
    "u3_2 = np.real(np.fft.ifft(uhat))"
   ]
  },
  {
   "cell_type": "code",
   "execution_count": null,
   "metadata": {},
   "outputs": [],
   "source": [
    "A = 25; B = 16;\n",
    "u0 = 3*A**2/np.cosh(0.5*(A*(x-np.pi+2.)))**2 + 3*B**2/np.cosh(0.5*(B*(x-np.pi+1)))**2\n",
    "uhat = np.fft.fft(u0)\n",
    "\n",
    "A1 = 1./(1.+nu*dt*kx**2)\n",
    "A2 = A1*dt\n",
    "\n",
    "for nt in range(nt):\n",
    "    time = (nt+1)*dt\n",
    "    \n",
    "    what = conv(uhat,alias='2/3')\n",
    "    uhat = A1*uhat - A2*what\n",
    "    \n",
    "u2_3 = np.real(np.fft.ifft(uhat))"
   ]
  },
  {
   "cell_type": "code",
   "execution_count": null,
   "metadata": {},
   "outputs": [],
   "source": [
    "A = 25; B = 16;\n",
    "u0 = 3*A**2/np.cosh(0.5*(A*(x-np.pi+2.)))**2 + 3*B**2/np.cosh(0.5*(B*(x-np.pi+1)))**2\n",
    "uhat = np.fft.fft(u0)\n",
    "A1 = 1./(1.+nu*dt*kx**2)\n",
    "A2 = A1*dt\n",
    "\n",
    "for nt in range(nt):\n",
    "    time = (nt+1)*dt\n",
    "    \n",
    "    what = conv(uhat,alias='No')\n",
    "    uhat = A1*uhat - A2*what\n",
    "    \n",
    "uNone = np.real(np.fft.ifft(uhat))"
   ]
  },
  {
   "cell_type": "code",
   "execution_count": null,
   "metadata": {},
   "outputs": [],
   "source": [
    "plt.figure()\n",
    "plt.plot(x,u0,label='U0')\n",
    "plt.plot(x,u2_3,label='2/3 rule')\n",
    "plt.plot(x,u3_2,label='3/2 rule')\n",
    "plt.plot(x,uNone,label='None')\n",
    "plt.legend()"
   ]
  }
 ],
 "metadata": {
  "kernelspec": {
   "display_name": "Python 3",
   "language": "python",
   "name": "python3"
  },
  "language_info": {
   "codemirror_mode": {
    "name": "ipython",
    "version": 3
   },
   "file_extension": ".py",
   "mimetype": "text/x-python",
   "name": "python",
   "nbconvert_exporter": "python",
   "pygments_lexer": "ipython3",
   "version": "3.7.0"
  }
 },
 "nbformat": 4,
 "nbformat_minor": 2
}
