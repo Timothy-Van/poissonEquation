{
 "cells": [
  {
   "cell_type": "code",
   "execution_count": null,
   "metadata": {},
   "outputs": [],
   "source": [
    "%matplotlib notebook\n",
    "import matplotlib.pyplot as plt\n",
    "import numpy as np"
   ]
  },
  {
   "cell_type": "code",
   "execution_count": null,
   "metadata": {},
   "outputs": [],
   "source": [
    "def cheby(k,x):\n",
    "    return np.cos(k*np.arccos(x))\n",
    "\n",
    "def gauss(N):\n",
    "    i = np.linspace(0,N-1,N)\n",
    "    return np.cos((i+0.5)*np.pi/N)\n",
    "    \n",
    "def gaussLobatto(N):\n",
    "    i = np.linspace(0,N,N+1)\n",
    "    return np.cos(np.pi*i/N)"
   ]
  },
  {
   "cell_type": "code",
   "execution_count": null,
   "metadata": {},
   "outputs": [],
   "source": [
    "def chebyD(N):\n",
    "    x = gaussLobatto(N)\n",
    "    D = np.zeros((N+1,N+1))\n",
    "    c = np.ones(N+1)\n",
    "    c[0] = 2.\n",
    "    c[-1] = 2.\n",
    "    # (0,0) (N,N)\n",
    "    D[0,0] = (2.*N**2+1.)/6\n",
    "    D[N,N] = -(2.*N**2+1.)/6\n",
    "    \n",
    "    for i in range(N+1):\n",
    "        for j in range(N+1):\n",
    "            if i != j:\n",
    "                D[i,j] = c[i]*(-1)**(i+j)/(c[j]*(x[i]-x[j]))\n",
    "                \n",
    "    for i in range(1,N):\n",
    "        D[i,i] = -x[i]/(1. - x[i]*x[i])*0.5\n",
    "        \n",
    "    return D,x"
   ]
  },
  {
   "cell_type": "code",
   "execution_count": null,
   "metadata": {},
   "outputs": [],
   "source": [
    "N = 3\n",
    "D,x = chebyD(N)\n",
    "u = np.sin(x)\n",
    "dudx = np.dot(D,u)"
   ]
  },
  {
   "cell_type": "code",
   "execution_count": null,
   "metadata": {},
   "outputs": [],
   "source": [
    "D"
   ]
  },
  {
   "cell_type": "code",
   "execution_count": null,
   "metadata": {},
   "outputs": [],
   "source": [
    "plt.figure()\n",
    "plt.plot(x,u)\n",
    "plt.plot(x,np.dot(D,u))\n",
    "plt.plot(x,np.dot(D,np.dot(D,u)))"
   ]
  }
 ],
 "metadata": {
  "kernelspec": {
   "display_name": "Python 3",
   "language": "python",
   "name": "python3"
  },
  "language_info": {
   "codemirror_mode": {
    "name": "ipython",
    "version": 3
   },
   "file_extension": ".py",
   "mimetype": "text/x-python",
   "name": "python",
   "nbconvert_exporter": "python",
   "pygments_lexer": "ipython3",
   "version": "3.7.0"
  }
 },
 "nbformat": 4,
 "nbformat_minor": 2
}
