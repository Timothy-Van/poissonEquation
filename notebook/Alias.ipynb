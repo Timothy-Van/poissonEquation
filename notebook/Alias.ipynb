{
 "cells": [
  {
   "cell_type": "code",
   "execution_count": null,
   "metadata": {},
   "outputs": [],
   "source": [
    "%matplotlib notebook\n",
    "import matplotlib.pyplot as plt\n",
    "import numpy as np"
   ]
  },
  {
   "cell_type": "code",
   "execution_count": null,
   "metadata": {},
   "outputs": [],
   "source": [
    "# Grid\n",
    "N = 16\n",
    "L = 2*np.pi\n",
    "x = np.linspace(0,2.*np.pi,N,endpoint=False)\n",
    "alpha = 2.*np.pi/L\n",
    "\n",
    "kx = np.fft.fftfreq(N)* N * alpha"
   ]
  },
  {
   "cell_type": "code",
   "execution_count": null,
   "metadata": {},
   "outputs": [],
   "source": [
    "#  Grid and wave system for dealiasing\n",
    "M = int(3*N/2)\n",
    "kx_dealias = np.fft.fftfreq(M)*M*alpha"
   ]
  },
  {
   "cell_type": "code",
   "execution_count": null,
   "metadata": {},
   "outputs": [],
   "source": [
    "kx"
   ]
  },
  {
   "cell_type": "code",
   "execution_count": null,
   "metadata": {
    "scrolled": true
   },
   "outputs": [],
   "source": [
    "kx_dealias"
   ]
  },
  {
   "cell_type": "code",
   "execution_count": null,
   "metadata": {},
   "outputs": [],
   "source": [
    "u = np.exp(np.sin(x))\n",
    "dudx = np.cos(x)*np.exp(np.sin(x))\n",
    "\n",
    "w = u*dudx\n",
    "\n",
    "plt.figure()\n",
    "plt.plot(x,w)"
   ]
  },
  {
   "cell_type": "code",
   "execution_count": null,
   "metadata": {},
   "outputs": [],
   "source": [
    "whatA = np.fft.fft(whatA)\n",
    "\n",
    "plt.figure(figsize=(6,9))\n",
    "\n",
    "plt.subplot(211)\n",
    "markerline, stemlines, baseline = plt.stem(np.fft.fftshift(),uhatplot.real)\n",
    "plt.setp(markerline,color='black',markersize=3.)\n",
    "plt.setp(stemlines,color='black',linestyle='--',linewidth=0.8)\n",
    "plt.tick_params(direction='in')\n",
    "#plt.xlim(-4,4)\n",
    "#plt.ylim(-0.2,1.3)\n",
    "\n",
    "\n",
    "plt.xlabel('$k$')\n",
    "plt.ylabel('$Re(\\hat{u})$')\n",
    "\n",
    "plt.subplot(212)\n",
    "markerline, stemlines, baseline = plt.stem(wavenumberplot,uhatplot.imag)\n",
    "plt.setp(stemlines,color='black',linestyle='--',linewidth=0.8)\n",
    "plt.setp(markerline,color='black',markersize=3.)\n",
    "plt.xlabel('$k$')\n",
    "plt.ylabel('$Im(\\hat{u})$')\n",
    "#plt.xlim(-4,4)\n",
    "#plt.ylim(-0.6,0.6)\n",
    "plt.tick_params(direction='in')"
   ]
  }
 ],
 "metadata": {
  "kernelspec": {
   "display_name": "Python 3",
   "language": "python",
   "name": "python3"
  },
  "language_info": {
   "codemirror_mode": {
    "name": "ipython",
    "version": 3
   },
   "file_extension": ".py",
   "mimetype": "text/x-python",
   "name": "python",
   "nbconvert_exporter": "python",
   "pygments_lexer": "ipython3",
   "version": "3.7.0"
  }
 },
 "nbformat": 4,
 "nbformat_minor": 2
}
